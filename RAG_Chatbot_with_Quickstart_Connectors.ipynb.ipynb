{
 "cells": [
  {
   "cell_type": "markdown",
   "metadata": {},
   "source": [
    "*We recommend first reading this [article](https://txt.cohere.com/rag-chatbot-quickstart/) as it provides the context needed to understand this notebook.*"
   ]
  },
  {
   "cell_type": "code",
   "execution_count": 1,
   "metadata": {},
   "outputs": [],
   "source": [
    "import cohere\n",
    "import os\n",
    "import uuid\n",
    "from typing import List, Dict\n",
    "\n",
    "co = cohere.Client(\"COHERE_API_KEY\")"
   ]
  },
  {
   "cell_type": "markdown",
   "metadata": {},
   "source": [
    "### Chatbot component"
   ]
  },
  {
   "cell_type": "code",
   "execution_count": 2,
   "metadata": {},
   "outputs": [],
   "source": [
    "class Chatbot:\n",
    "    def __init__(self, connectors: List[str]):\n",
    "        self.conversation_id = str(uuid.uuid4())\n",
    "        self.connectors = [{\"id\": c} for c in connectors]\n",
    "        \n",
    "\n",
    "    def generate_response(self, message: str):\n",
    "        response = co.chat(\n",
    "                        message=message,\n",
    "                        connectors=self.connectors,\n",
    "                        conversation_id=self.conversation_id,\n",
    "                        stream=True\n",
    "                        )\n",
    "\n",
    "        for event in response:\n",
    "            yield event\n",
    "        yield response"
   ]
  },
  {
   "cell_type": "markdown",
   "metadata": {},
   "source": [
    "### App component"
   ]
  },
  {
   "cell_type": "code",
   "execution_count": 4,
   "metadata": {},
   "outputs": [],
   "source": [
    "class App:\n",
    "    def __init__(self, chatbot: Chatbot):\n",
    "        self.chatbot = chatbot\n",
    "        \n",
    "    def run(self):\n",
    "        while True:\n",
    "            # Get the user message\n",
    "            message = input(\"User: \")\n",
    "\n",
    "            # Typing \"quit\" ends the conversation\n",
    "            if message.lower() == \"quit\":\n",
    "                print(\"Ending chat.\")\n",
    "                break\n",
    "            else:\n",
    "                print(f\"User: {message}\")\n",
    "\n",
    "            # Get the chatbot response\n",
    "            response = self.chatbot.generate_response(message)\n",
    "\n",
    "            # Print the chatbot response\n",
    "            print(\"Chatbot:\")\n",
    "            \n",
    "            citations_flag = False\n",
    "            \n",
    "            for event in response:\n",
    "                stream_type = type(event).__name__\n",
    "                \n",
    "                # Text\n",
    "                if stream_type == \"StreamTextGeneration\":\n",
    "                    print(event.text, end=\"\")\n",
    "\n",
    "                # Citations\n",
    "                if stream_type == \"StreamCitationGeneration\":\n",
    "                    if not citations_flag:\n",
    "                        print(\"\\n\\nCITATIONS:\")\n",
    "                        citations_flag = True\n",
    "                    print(event.citations[0])\n",
    "                \n",
    "                # Documents\n",
    "                if citations_flag:\n",
    "                    if stream_type == \"StreamingChat\":\n",
    "                        print(\"\\n\\nDOCUMENTS:\")\n",
    "                        documents = [{'id': doc['id'],\n",
    "                                      'text': doc.get('text', doc.get('snippet', ''))[:50] + '...', # snippet field to account for web search results\n",
    "                                      'title': doc['title'],\n",
    "                                      'url': doc['url']} \n",
    "                                      for doc in event.documents]\n",
    "                        for doc in documents:\n",
    "                            print(doc)\n",
    "\n",
    "            print(f\"\\n{'-'*100}\\n\")"
   ]
  },
  {
   "cell_type": "markdown",
   "metadata": {},
   "source": [
    "### Run chatbot with Google Drive connector"
   ]
  },
  {
   "cell_type": "code",
   "execution_count": 5,
   "metadata": {},
   "outputs": [
    {
     "name": "stdout",
     "output_type": "stream",
     "text": [
      "User: What are sentence embeddings\n",
      "Chatbot:\n",
      "Sentence embeddings are a useful tool for validating output from an LLM. They can be used to ensure the output is similar enough to a target, for example, in text summarization tasks. Sentence embeddings can also be used to ensure the output meets certain criteria such as safety and correctness. For example, we may want to confirm that an output does not contain profanity.\n",
      "\n",
      "CITATIONS:\n",
      "{'start': 42, 'end': 59, 'text': 'validating output', 'document_ids': ['demo-conn-gdrive-6bfrp6_1:5']}\n",
      "{'start': 68, 'end': 72, 'text': 'LLM.', 'document_ids': ['demo-conn-gdrive-6bfrp6_1:5']}\n",
      "{'start': 114, 'end': 140, 'text': 'similar enough to a target', 'document_ids': ['demo-conn-gdrive-6bfrp6_1:5', 'demo-conn-gdrive-6bfrp6_1:4']}\n",
      "{'start': 158, 'end': 183, 'text': 'text summarization tasks.', 'document_ids': ['demo-conn-gdrive-6bfrp6_1:5']}\n",
      "{'start': 273, 'end': 279, 'text': 'safety', 'document_ids': ['demo-conn-gdrive-6bfrp6_1:4']}\n",
      "{'start': 365, 'end': 375, 'text': 'profanity.', 'document_ids': ['demo-conn-gdrive-6bfrp6_1:4']}\n",
      "\n",
      "\n",
      "DOCUMENTS:\n",
      "{'id': 'demo-conn-gdrive-6bfrp6_1:5', 'text': ' For this, with the help of text embeddings, we wa...', 'title': 'Validating Outputs', 'url': 'https://docs.google.com/document/d/1wngAfCJY1IgD6H__4AkQXFfymKUpSeJL13TItbigdyA/edit?usp=drivesdk'}\n",
      "{'id': 'demo-conn-gdrive-6bfrp6_1:4', 'text': ' We can extend this to synthetic data generation c...', 'title': 'Validating Outputs', 'url': 'https://docs.google.com/document/d/1wngAfCJY1IgD6H__4AkQXFfymKUpSeJL13TItbigdyA/edit?usp=drivesdk'}\n",
      "\n",
      "----------------------------------------------------------------------------------------------------\n",
      "\n",
      "User: What about prompt engineering\n",
      "Chatbot:\n",
      "Prompt engineering is about sending instructions to LLMs and tailoring inputs to get the desired response from the model. This can be done creatively, such as by chaining prompts, where you give the LLM a starting point and have it finish the prompt based on a partially completed prompt. The flexibility and creativity in dealing with LLMs' probabilistic outputs pose an exciting challenge for building LLM-powered applications.\n",
      "\n",
      "CITATIONS:\n",
      "{'start': 28, 'end': 56, 'text': 'sending instructions to LLMs', 'document_ids': ['demo-conn-gdrive-6bfrp6_0:3']}\n",
      "{'start': 61, 'end': 77, 'text': 'tailoring inputs', 'document_ids': ['demo-conn-gdrive-6bfrp6_3:0']}\n",
      "{'start': 162, 'end': 178, 'text': 'chaining prompts', 'document_ids': ['demo-conn-gdrive-6bfrp6_1:15']}\n",
      "{'start': 293, 'end': 304, 'text': 'flexibility', 'document_ids': ['demo-conn-gdrive-6bfrp6_1:15']}\n",
      "{'start': 309, 'end': 319, 'text': 'creativity', 'document_ids': ['demo-conn-gdrive-6bfrp6_1:15']}\n",
      "{'start': 336, 'end': 363, 'text': \"LLMs' probabilistic outputs\", 'document_ids': ['demo-conn-gdrive-6bfrp6_3:0']}\n",
      "{'start': 372, 'end': 390, 'text': 'exciting challenge', 'document_ids': ['demo-conn-gdrive-6bfrp6_1:15']}\n",
      "{'start': 395, 'end': 429, 'text': 'building LLM-powered applications.', 'document_ids': ['demo-conn-gdrive-6bfrp6_1:15']}\n",
      "\n",
      "\n",
      "DOCUMENTS:\n",
      "{'id': 'demo-conn-gdrive-6bfrp6_0:3', 'text': ' At its core, prompting a Command model is about s...', 'title': 'Constructing Prompts', 'url': 'https://docs.google.com/document/d/1LGsOhBL02jwy5UUIS8tuv9G80FSn7vxeQYiiglsN9oY/edit?usp=drivesdk'}\n",
      "{'id': 'demo-conn-gdrive-6bfrp6_3:0', 'text': \"\\ufeffValidating Outputs\\r\\nIn this chapter, you'll learn...\", 'title': 'Validating Outputs', 'url': 'https://docs.google.com/document/d/1wngAfCJY1IgD6H__4AkQXFfymKUpSeJL13TItbigdyA/edit?usp=drivesdk'}\n",
      "{'id': 'demo-conn-gdrive-6bfrp6_1:15', 'text': '\\r\\nThis is a fascinating area of prompt engineering...', 'title': 'Chaining Prompts', 'url': 'https://docs.google.com/document/d/1oF20QD0lHNdYQp6F7sSyEC1grGErout4GIQn1JBUACo/edit?usp=drivesdk'}\n",
      "\n",
      "----------------------------------------------------------------------------------------------------\n",
      "\n",
      "Ending chat.\n"
     ]
    }
   ],
   "source": [
    "# Define connectors\n",
    "connectors = [\"demo-conn-gdrive-6bfrp6\"]\n",
    "\n",
    "# Create an instance of the Chatbot class by supplying the connectors\n",
    "chatbot = Chatbot(connectors)\n",
    "\n",
    "# Create an instance of the App class with the Chatbot instance\n",
    "app = App(chatbot)\n",
    "\n",
    "# Run the chatbot\n",
    "app.run()"
   ]
  },
  {
   "cell_type": "markdown",
   "metadata": {},
   "source": [
    "### Run chatbot with web search connector"
   ]
  },
  {
   "cell_type": "code",
   "execution_count": 5,
   "metadata": {},
   "outputs": [
    {
     "name": "stdout",
     "output_type": "stream",
     "text": [
      "User: What is LLM university\n",
      "Chatbot:\n",
      "LLM University (LLMU) is a set of comprehensive learning resources for anyone interested in natural language processing (NLP) or large language models (LLMs), from beginners to advanced learners. \n",
      "\n",
      "You can customise your learning path and the curriculum covers everything from the fundamentals of LLMs to the most advanced topics, including generative AI.\n",
      "\n",
      "CITATIONS:\n",
      "{'start': 0, 'end': 21, 'text': 'LLM University (LLMU)', 'document_ids': ['web-search_8:0', 'web-search_8:2', 'web-search_8:1', 'web-search_5:0', 'web-search_5:3']}\n",
      "{'start': 34, 'end': 66, 'text': 'comprehensive learning resources', 'document_ids': ['web-search_8:0', 'web-search_8:2', 'web-search_8:1', 'web-search_5:0']}\n",
      "{'start': 92, 'end': 125, 'text': 'natural language processing (NLP)', 'document_ids': ['web-search_8:0', 'web-search_8:1', 'web-search_5:0']}\n",
      "{'start': 129, 'end': 157, 'text': 'large language models (LLMs)', 'document_ids': ['web-search_8:1', 'web-search_5:0']}\n",
      "{'start': 164, 'end': 173, 'text': 'beginners', 'document_ids': ['web-search_8:0', 'web-search_8:2', 'web-search_5:0']}\n",
      "{'start': 177, 'end': 195, 'text': 'advanced learners.', 'document_ids': ['web-search_8:0', 'web-search_8:2', 'web-search_5:0']}\n",
      "{'start': 206, 'end': 234, 'text': 'customise your learning path', 'document_ids': ['web-search_8:2']}\n",
      "{'start': 281, 'end': 293, 'text': 'fundamentals', 'document_ids': ['web-search_8:0', 'web-search_8:2', 'web-search_8:1', 'web-search_5:0']}\n",
      "{'start': 309, 'end': 329, 'text': 'most advanced topics', 'document_ids': ['web-search_8:0', 'web-search_8:2', 'web-search_8:1', 'web-search_5:0']}\n",
      "{'start': 341, 'end': 355, 'text': 'generative AI.', 'document_ids': ['web-search_8:0', 'web-search_8:2', 'web-search_8:1', 'web-search_5:0']}\n",
      "\n",
      "\n",
      "DOCUMENTS:\n",
      "{'id': 'web-search_8:0', 'text': 'Introducing LLM University — Your Go-To Learning R...', 'title': 'Introducing LLM University — Your Go-To Learning Resource for NLP🎓', 'url': 'https://txt.cohere.com/llm-university/'}\n",
      "{'id': 'web-search_8:2', 'text': ' We cater to learners from all backgrounds, and co...', 'title': 'Introducing LLM University — Your Go-To Learning Resource for NLP🎓', 'url': 'https://txt.cohere.com/llm-university/'}\n",
      "{'id': 'web-search_8:1', 'text': ' These courses are tailor-made for learners who wa...', 'title': 'Introducing LLM University — Your Go-To Learning Resource for NLP🎓', 'url': 'https://txt.cohere.com/llm-university/'}\n",
      "{'id': 'web-search_5:0', 'text': 'Guides and ConceptsAPI ReferenceRelease NotesAppli...', 'title': 'LLM University (LLMU) | Cohere', 'url': 'https://docs.cohere.com/docs/llmu'}\n",
      "{'id': 'web-search_5:3', 'text': '\\n\\nHow to build apps, including semantic search mod...', 'title': 'LLM University (LLMU) | Cohere', 'url': 'https://docs.cohere.com/docs/llmu'}\n",
      "\n",
      "----------------------------------------------------------------------------------------------------\n",
      "\n",
      "Ending chat.\n"
     ]
    }
   ],
   "source": [
    "# Define connectors\n",
    "connectors = [\"web-search\"]\n",
    "\n",
    "# Create an instance of the Chatbot class by supplying the connectors\n",
    "chatbot = Chatbot(connectors)\n",
    "\n",
    "# Create an instance of the App class with the Chatbot instance\n",
    "app = App(chatbot)\n",
    "\n",
    "# Run the chatbot\n",
    "app.run()"
   ]
  },
  {
   "cell_type": "markdown",
   "metadata": {},
   "source": [
    "### Run chatbot with multiple connectors"
   ]
  },
  {
   "cell_type": "code",
   "execution_count": 6,
   "metadata": {},
   "outputs": [
    {
     "name": "stdout",
     "output_type": "stream",
     "text": [
      "User: What is chain of thought prompting\n",
      "Chatbot:\n",
      "Chain of thought prompting is a technique that guides LLMs (language model) to follow a reasoning process when dealing with problematic questions. When a prompt asks a model to give a final answer to a multi-step problem, chain of thought prompting induces the model to decompose the problem into intermediate reasoning steps, leading to a correct final answer. This is done by showing the model a few examples where the step-by-step reasoning is clearly laid out. The model is then expected to follow that \"chain of thought\" reasoning and get to the correct answer.\n",
      "\n",
      "This approach has been found to significantly enhance the ability of LLMs to tackle complex arithmetic and commonsense reasoning tasks.\n",
      "\n",
      "CITATIONS:\n",
      "{'start': 47, 'end': 58, 'text': 'guides LLMs', 'document_ids': ['web-search_4:1']}\n",
      "{'start': 79, 'end': 105, 'text': 'follow a reasoning process', 'document_ids': ['web-search_4:1']}\n",
      "{'start': 184, 'end': 196, 'text': 'final answer', 'document_ids': ['web-search_5:2']}\n",
      "{'start': 202, 'end': 220, 'text': 'multi-step problem', 'document_ids': ['web-search_5:2']}\n",
      "{'start': 270, 'end': 279, 'text': 'decompose', 'document_ids': ['web-search_5:2', 'web-search_6:2']}\n",
      "{'start': 297, 'end': 325, 'text': 'intermediate reasoning steps', 'document_ids': ['web-search_5:2', 'web-search_6:2', 'web-search_7:2', 'web-search_8:13']}\n",
      "{'start': 340, 'end': 361, 'text': 'correct final answer.', 'document_ids': ['web-search_5:2', 'web-search_6:2', 'web-search_4:1', 'web-search_8:13']}\n",
      "{'start': 378, 'end': 410, 'text': 'showing the model a few examples', 'document_ids': ['web-search_5:2', 'demo-conn-gdrive-6bfrp6_11:20', 'demo-conn-gdrive-6bfrp6_11:30', 'web-search_4:1', 'demo-conn-gdrive-6bfrp6_10:6', 'web-search_7:2']}\n",
      "{'start': 421, 'end': 443, 'text': 'step-by-step reasoning', 'document_ids': ['demo-conn-gdrive-6bfrp6_11:20', 'web-search_4:1']}\n",
      "{'start': 495, 'end': 535, 'text': 'follow that \"chain of thought\" reasoning', 'document_ids': ['web-search_4:1']}\n",
      "{'start': 600, 'end': 621, 'text': 'significantly enhance', 'document_ids': ['web-search_6:2', 'web-search_7:2']}\n",
      "{'start': 645, 'end': 670, 'text': 'tackle complex arithmetic', 'document_ids': ['web-search_6:2', 'web-search_7:2']}\n",
      "{'start': 675, 'end': 703, 'text': 'commonsense reasoning tasks.', 'document_ids': ['web-search_6:2', 'web-search_7:2']}\n",
      "\n",
      "\n",
      "DOCUMENTS:\n",
      "{'id': 'web-search_4:1', 'text': '\\n\\nWhat is Chain-of-Thought Prompting?\\n\\nDifference ...', 'title': 'Chain of Thought Prompting (CoT): Everything you need to know', 'url': 'https://www.vellum.ai/blog/chain-of-thought-prompting-cot-everything-you-need-to-know'}\n",
      "{'id': 'web-search_5:2', 'text': ' In chain of thought prompting (below, right), the...', 'title': 'Language Models Perform Reasoning via Chain of Thought – Google Research Blog', 'url': 'https://blog.research.google/2022/05/language-models-perform-reasoning-via.html'}\n",
      "{'id': 'web-search_6:2', 'text': '\\n\\nWhat is Chain-of-Thought Prompting?\\n\\nIn chain-of...', 'title': 'Let’s Think Step by Step: Advanced Reasoning in Business with Chain-of-Thought Prompting | by Jerry Cuomo | Medium', 'url': 'https://medium.com/@JerryCuomo/lets-think-step-by-step-advanced-reasoning-in-business-with-chain-of-thought-prompting-dd5ae8a6008'}\n",
      "{'id': 'web-search_7:2', 'text': '\\n\\nIn 2022, Google researchers Wei et al. proposed ...', 'title': 'Chain-of-Thought Prompting: Helping LLMs Learn by Example | Deepgram', 'url': 'https://deepgram.com/learn/chain-of-thought-prompting-guide'}\n",
      "{'id': 'web-search_8:13', 'text': '\\n\\nTo perform Chain of Thought prompting you just n...', 'title': 'Comprehensive Guide to Chain-of-Thought Prompting', 'url': 'https://www.mercity.ai/blog-post/guide-to-chain-of-thought-prompting'}\n",
      "{'id': 'demo-conn-gdrive-6bfrp6_11:20', 'text': '\\r\\nCan you pick me up tonight to go to the concert ...', 'title': 'Constructing Prompts', 'url': 'https://docs.google.com/document/d/1LGsOhBL02jwy5UUIS8tuv9G80FSn7vxeQYiiglsN9oY/edit?usp=drivesdk'}\n",
      "{'id': 'demo-conn-gdrive-6bfrp6_11:30', 'text': ' This will allow them to make intelligent decision...', 'title': 'Constructing Prompts', 'url': 'https://docs.google.com/document/d/1LGsOhBL02jwy5UUIS8tuv9G80FSn7vxeQYiiglsN9oY/edit?usp=drivesdk'}\n",
      "{'id': 'demo-conn-gdrive-6bfrp6_10:6', 'text': ' But dialing up the creativity knob (i.e., “temper...', 'title': 'Chaining Prompts', 'url': 'https://docs.google.com/document/d/1oF20QD0lHNdYQp6F7sSyEC1grGErout4GIQn1JBUACo/edit?usp=drivesdk'}\n",
      "\n",
      "----------------------------------------------------------------------------------------------------\n",
      "\n",
      "Ending chat.\n"
     ]
    }
   ],
   "source": [
    "# Define connectors\n",
    "connectors = [\"demo-conn-gdrive-6bfrp6\", \"web-search\"]\n",
    "\n",
    "# Create an instance of the Chatbot class by supplying the connectors\n",
    "chatbot = Chatbot(connectors)\n",
    "\n",
    "# Create an instance of the App class with the Chatbot instance\n",
    "app = App(chatbot)\n",
    "\n",
    "# Run the chatbot\n",
    "app.run()"
   ]
  },
  {
   "cell_type": "code",
   "execution_count": null,
   "metadata": {},
   "outputs": [],
   "source": []
  }
 ],
 "metadata": {
  "kernelspec": {
   "display_name": "base",
   "language": "python",
   "name": "base"
  },
  "language_info": {
   "codemirror_mode": {
    "name": "ipython",
    "version": 3
   },
   "file_extension": ".py",
   "mimetype": "text/x-python",
   "name": "python",
   "nbconvert_exporter": "python",
   "pygments_lexer": "ipython3",
   "version": "3.11.4"
  },
  "orig_nbformat": 4
 },
 "nbformat": 4,
 "nbformat_minor": 2
}
